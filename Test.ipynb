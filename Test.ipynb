{
 "cells": [
  {
   "cell_type": "code",
   "execution_count": null,
   "id": "d6beb122",
   "metadata": {},
   "outputs": [],
   "source": [
    "conda update -n base -c defaults conda"
   ]
  },
  {
   "cell_type": "code",
   "execution_count": null,
   "id": "03f83599",
   "metadata": {},
   "outputs": [],
   "source": [
    "conda install -c anaconda git "
   ]
  },
  {
   "cell_type": "code",
   "execution_count": null,
   "id": "d92cf503",
   "metadata": {},
   "outputs": [],
   "source": [
    "git config global user.name \"eilishor\" \n",
    "git config global user.email \"hor.t@pg.com\""
   ]
  },
  {
   "cell_type": "code",
   "execution_count": null,
   "id": "965d7ec4",
   "metadata": {},
   "outputs": [],
   "source": [
    "conda create -n pikachu python=3.9"
   ]
  },
  {
   "cell_type": "code",
   "execution_count": null,
   "id": "be40835c",
   "metadata": {},
   "outputs": [],
   "source": [
    "conda activate pikachu"
   ]
  },
  {
   "cell_type": "code",
   "execution_count": null,
   "id": "d776cde8",
   "metadata": {},
   "outputs": [],
   "source": [
    "pip install pikachu-chem"
   ]
  },
  {
   "cell_type": "code",
   "execution_count": null,
   "id": "5d57482a",
   "metadata": {},
   "outputs": [],
   "source": []
  }
 ],
 "metadata": {
  "kernelspec": {
   "display_name": "Python 3 (ipykernel)",
   "language": "python",
   "name": "python3"
  },
  "language_info": {
   "codemirror_mode": {
    "name": "ipython",
    "version": 3
   },
   "file_extension": ".py",
   "mimetype": "text/x-python",
   "name": "python",
   "nbconvert_exporter": "python",
   "pygments_lexer": "ipython3",
   "version": "3.10.9"
  }
 },
 "nbformat": 4,
 "nbformat_minor": 5
}
